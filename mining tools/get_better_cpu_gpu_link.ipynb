{
 "cells": [
  {
   "cell_type": "code",
   "execution_count": 17,
   "metadata": {},
   "outputs": [],
   "source": [
    "import requests\n",
    "from bs4 import BeautifulSoup\n",
    "from selenium import webdriver\n",
    "from selenium.webdriver.common.by import By\n",
    "from selenium.webdriver.support.ui import WebDriverWait\n",
    "from selenium.webdriver.support import expected_conditions as EC\n",
    "from selenium.common import TimeoutException\n",
    "import urllib3\n",
    "import time\n",
    "import pandas as pd\n",
    "import json\n",
    "import re"
   ]
  },
  {
   "cell_type": "code",
   "execution_count": 18,
   "metadata": {},
   "outputs": [],
   "source": [
    "haha = pd.DataFrame()\n",
    "haha[\"link\"] = None\n",
    "haha[\"name\"] = None"
   ]
  },
  {
   "cell_type": "code",
   "execution_count": 19,
   "metadata": {},
   "outputs": [],
   "source": [
    "year = list(range(2024,2013,-1))\n",
    "year.remove(2023)\n",
    "count = 0"
   ]
  },
  {
   "cell_type": "code",
   "execution_count": 20,
   "metadata": {},
   "outputs": [],
   "source": [
    "for hohohoho in [\"AMD\",\"Intel\"]:\n",
    "    link = f\"https://www.techpowerup.com/cpu-specs/?mfgr={hohohoho}&released=2023&mobile=Yes&sort=name\"\n",
    "    hehe = urllib3.request(\"GET\",link)\n",
    "    soup = BeautifulSoup(hehe.data)\n",
    "    hehehehe = soup.find(\"div\",attrs = {\"class\":\"table-wrapper\"})\n",
    "    hehehe = hehehehe.find_all(\"a\")\n",
    "    for he in hehehe:\n",
    "        haha.loc[count,\"link\"]=he.attrs[\"href\"]\n",
    "        haha.loc[count,\"name\"]=he.contents[0]\n",
    "        count+=1\n",
    "    time.sleep(5)"
   ]
  },
  {
   "cell_type": "code",
   "execution_count": 21,
   "metadata": {},
   "outputs": [
    {
     "name": "stdout",
     "output_type": "stream",
     "text": [
      "2024\n",
      "2022\n",
      "2021\n",
      "2020\n",
      "2019\n",
      "2018\n",
      "2017\n",
      "2016\n",
      "2015\n",
      "2014\n"
     ]
    }
   ],
   "source": [
    "for y in year:\n",
    "    print(y)\n",
    "    link = f\"https://www.techpowerup.com/cpu-specs/?released={y}&mobile=Yes&sort=name\"\n",
    "    hehe = urllib3.request(\"GET\",link)\n",
    "    soup = BeautifulSoup(hehe.data)\n",
    "    hehehehe = soup.find(\"div\",attrs = {\"class\":\"table-wrapper\"})\n",
    "    hehehe = hehehehe.find_all(\"a\")\n",
    "    for he in hehehe:\n",
    "        haha.loc[count,\"link\"]=he.attrs[\"href\"]\n",
    "        haha.loc[count,\"name\"]=he.contents[0]\n",
    "        count+=1\n",
    "    time.sleep(5)"
   ]
  },
  {
   "cell_type": "code",
   "execution_count": 22,
   "metadata": {},
   "outputs": [
    {
     "data": {
      "text/html": [
       "<div>\n",
       "<style scoped>\n",
       "    .dataframe tbody tr th:only-of-type {\n",
       "        vertical-align: middle;\n",
       "    }\n",
       "\n",
       "    .dataframe tbody tr th {\n",
       "        vertical-align: top;\n",
       "    }\n",
       "\n",
       "    .dataframe thead th {\n",
       "        text-align: right;\n",
       "    }\n",
       "</style>\n",
       "<table border=\"1\" class=\"dataframe\">\n",
       "  <thead>\n",
       "    <tr style=\"text-align: right;\">\n",
       "      <th></th>\n",
       "      <th>link</th>\n",
       "      <th>name</th>\n",
       "    </tr>\n",
       "  </thead>\n",
       "  <tbody>\n",
       "    <tr>\n",
       "      <th>0</th>\n",
       "      <td>/cpu-specs/ryzen-3-7330u.c3035</td>\n",
       "      <td>Ryzen 3 7330U</td>\n",
       "    </tr>\n",
       "    <tr>\n",
       "      <th>1</th>\n",
       "      <td>/cpu-specs/ryzen-3-7335u.c3038</td>\n",
       "      <td>Ryzen 3 7335U</td>\n",
       "    </tr>\n",
       "    <tr>\n",
       "      <th>2</th>\n",
       "      <td>/cpu-specs/ryzen-3-7440u.c3363</td>\n",
       "      <td>Ryzen 3 7440U</td>\n",
       "    </tr>\n",
       "    <tr>\n",
       "      <th>3</th>\n",
       "      <td>/cpu-specs/ryzen-3-8440u.c3407</td>\n",
       "      <td>Ryzen 3 8440U</td>\n",
       "    </tr>\n",
       "    <tr>\n",
       "      <th>4</th>\n",
       "      <td>/cpu-specs/ryzen-3-pro-7330u.c3273</td>\n",
       "      <td>Ryzen 3 PRO 7330U</td>\n",
       "    </tr>\n",
       "    <tr>\n",
       "      <th>...</th>\n",
       "      <td>...</td>\n",
       "      <td>...</td>\n",
       "    </tr>\n",
       "    <tr>\n",
       "      <th>498</th>\n",
       "      <td>/cpu-specs/core-i7-4810mq.c1758</td>\n",
       "      <td>Core i7-4810MQ</td>\n",
       "    </tr>\n",
       "    <tr>\n",
       "      <th>499</th>\n",
       "      <td>/cpu-specs/core-i7-4860hq.c1777</td>\n",
       "      <td>Core i7-4860HQ</td>\n",
       "    </tr>\n",
       "    <tr>\n",
       "      <th>500</th>\n",
       "      <td>/cpu-specs/core-i7-4870hq.c1776</td>\n",
       "      <td>Core i7-4870HQ</td>\n",
       "    </tr>\n",
       "    <tr>\n",
       "      <th>501</th>\n",
       "      <td>/cpu-specs/core-i7-4910mq.c1757</td>\n",
       "      <td>Core i7-4910MQ</td>\n",
       "    </tr>\n",
       "    <tr>\n",
       "      <th>502</th>\n",
       "      <td>/cpu-specs/core-i7-4940mx.c1756</td>\n",
       "      <td>Core i7-4940MX</td>\n",
       "    </tr>\n",
       "  </tbody>\n",
       "</table>\n",
       "<p>503 rows × 2 columns</p>\n",
       "</div>"
      ],
      "text/plain": [
       "                                   link               name\n",
       "0        /cpu-specs/ryzen-3-7330u.c3035      Ryzen 3 7330U\n",
       "1        /cpu-specs/ryzen-3-7335u.c3038      Ryzen 3 7335U\n",
       "2        /cpu-specs/ryzen-3-7440u.c3363      Ryzen 3 7440U\n",
       "3        /cpu-specs/ryzen-3-8440u.c3407      Ryzen 3 8440U\n",
       "4    /cpu-specs/ryzen-3-pro-7330u.c3273  Ryzen 3 PRO 7330U\n",
       "..                                  ...                ...\n",
       "498     /cpu-specs/core-i7-4810mq.c1758     Core i7-4810MQ\n",
       "499     /cpu-specs/core-i7-4860hq.c1777     Core i7-4860HQ\n",
       "500     /cpu-specs/core-i7-4870hq.c1776     Core i7-4870HQ\n",
       "501     /cpu-specs/core-i7-4910mq.c1757     Core i7-4910MQ\n",
       "502     /cpu-specs/core-i7-4940mx.c1756     Core i7-4940MX\n",
       "\n",
       "[503 rows x 2 columns]"
      ]
     },
     "execution_count": 22,
     "metadata": {},
     "output_type": "execute_result"
    }
   ],
   "source": [
    "haha"
   ]
  },
  {
   "cell_type": "code",
   "execution_count": 24,
   "metadata": {},
   "outputs": [],
   "source": [
    "haha.to_csv(\"better_cpu_link.csv\")"
   ]
  }
 ],
 "metadata": {
  "kernelspec": {
   "display_name": "Python 3",
   "language": "python",
   "name": "python3"
  },
  "language_info": {
   "codemirror_mode": {
    "name": "ipython",
    "version": 3
   },
   "file_extension": ".py",
   "mimetype": "text/x-python",
   "name": "python",
   "nbconvert_exporter": "python",
   "pygments_lexer": "ipython3",
   "version": "3.11.3"
  }
 },
 "nbformat": 4,
 "nbformat_minor": 2
}
