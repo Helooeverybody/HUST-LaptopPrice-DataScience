{
 "cells": [
  {
   "cell_type": "code",
   "execution_count": null,
   "metadata": {
    "executionInfo": {
     "elapsed": 838,
     "status": "ok",
     "timestamp": 1726590429281,
     "user": {
      "displayName": "Tùng Nguyễn Hoàng Sơn",
      "userId": "11815518108456981640"
     },
     "user_tz": -420
    },
    "id": "ld46FvT-og27"
   },
   "outputs": [],
   "source": [
    "import requests\n",
    "from bs4 import BeautifulSoup\n",
    "from selenium import webdriver\n",
    "from selenium.webdriver.common.by import By\n",
    "from selenium.webdriver.support.ui import WebDriverWait\n",
    "from selenium.webdriver.support import expected_conditions as EC\n",
    "from selenium.common import SessionNotCreatedException,WebDriverException\n",
    "import time\n",
    "import pandas as pd\n",
    "import multiprocessing as mp\n",
    "\n",
    "convert_dict = {\"text-red-500\" : 0, \"text-green-500\" : 1}\n",
    "\n",
    "\n",
    "NUM_WORKERS = 7\n",
    "SAVE_CHUNK = 100\n",
    "\n",
    "\n",
    "\n",
    "def parse(data):\n",
    "    retries = 3\n",
    "    id,row = data\n",
    "    print(id)\n",
    "    ffx = webdriver.Chrome()\n",
    "    ffx.get(row[0])\n",
    "    soup = BeautifulSoup(ffx.page_source,\"html.parser\")\n",
    "    hehe = soup.find(\"div\",attrs={\"class\":\"inpageSections loaded\",\"id\":\"section-specs\"})\n",
    "    better_hehe = hehe.find(\"div\",attrs={\"class\":\"lm-catalog-specs border-b-2 border-dashed text-lm-darkBlue border-gray-300 pt-5 pb-10\"})\n",
    "    next_hehe = better_hehe.find_all(\"ul\")\n",
    "    hahahaha = {}\n",
    "    for data in next_hehe:\n",
    "        hohoho = data.find_all(\"li\")\n",
    "        if len(hohoho)!=2:\n",
    "            continue\n",
    "        final_labels = [k.get_text().strip() for k in hohoho]\n",
    "        if final_labels[1] == \"\":\n",
    "            try:\n",
    "                final_labels[1] = convert_dict[hohoho[1].find(\"i\")[\"class\"][1]]\n",
    "            except TypeError:\n",
    "                continue\n",
    "        if \"USB\" in final_labels[0]:\n",
    "            hehehe = final_labels[0].split()\n",
    "            if len(hehehe)==3:\n",
    "                hohoho = \" \".join(hehehe[1:])\n",
    "                hihihi = int(hehehe[0][0])\n",
    "                hahahaha[hohoho] = hahahaha.get(hohoho,0) + hihihi\n",
    "            elif len(hehehe)==2:\n",
    "                hohoho = \" \".join(hehehe)\n",
    "                hahahaha[hohoho] = hahahaha.get(hohoho,0) + 1\n",
    "            continue\n",
    "        match final_labels[0]:\n",
    "            case \"CPU\"|\"GPU\":\n",
    "                hahahaha[final_labels[0]] = final_labels[1].split(\"#\")[0]\n",
    "            case \"M.2 Slot\":\n",
    "                hahahaha[final_labels[0]] = final_labels[1].split(\"\\n\")[0]\n",
    "            case _:\n",
    "                if final_labels[0] in ['link','name','CPU','GPU','Display','HDD/SSD','RAM','OS','Body Material','Dimensions','Weight','M.2 Slot','USB Type-C','USB Type-A','HDMI','Bluetooth','Wi-Fi','Card Reader','Ethernet LAN','Web camera','Security Lock slot','Fingerprint reader','Backlit keyboard','Cost','Total Score','Portability Score','Display Score','Work Score','Play Score']:\n",
    "                    hahahaha[final_labels[0]] = final_labels[1]\n",
    "    hehe = soup.find(\"ul\",attrs = {\"class\":[\"catalog-buttons-3 grid grid-cols-1 mt-5 gap-3 text-left\",\"catalog-buttons-1 grid grid-cols-1 mt-5 gap-3 text-left\",\"catalog-buttons-2 grid grid-cols-1 mt-5 gap-3 text-left\"]})\n",
    "    score_part = soup.find(\"div\",attrs = {\"class\":\"grid gap-2 grid-cols-[1fr_auto]\"})\n",
    "    if hehe is not None:\n",
    "        hehehe = hehe.get_text(\"\")\n",
    "        hahahaha[\"Cost\"] = hehehe\n",
    "    if score_part is not None:\n",
    "        kirara = [line.strip() for line in score_part.get_text().splitlines() if line.strip()]\n",
    "        hahahaha[\"Total Score\"] = kirara[0]\n",
    "        hahahaha[\"Portability Score\"] = kirara[2]\n",
    "        hahahaha[\"Display Score\"] = kirara[5]\n",
    "        hahahaha[\"Work Score\"] = kirara[8]\n",
    "        hahahaha[\"Play Score\"] = kirara[11]\n",
    "    ffx.quit()\n",
    "    return id,hahahaha\n"
   ]
  },
  {
   "cell_type": "code",
   "execution_count": 3,
   "metadata": {},
   "outputs": [],
   "source": [
    "ffx = webdriver.Chrome()\n",
    "hahahaha = {\"link\":[],\"name\":[],\"html_parsed\":[]}\n",
    "break_point=False\n",
    "for k in range(10):\n",
    "    check = False\n",
    "    while check == False:\n",
    "        ffx.get(f\"https://laptopmedia.com/specs/?current=n_{k}_n&size=n_1000_n&sort%5B0%5D%5Bfield%5D=availability&sort%5B0%5D%5Bdirection%5D=desc&sort%5B1%5D%5Bfield%5D=date_published&sort%5B1%5D%5Bdirection%5D=desc\") \n",
    "        try:\n",
    "            WebDriverWait(ffx, 10).until(\n",
    "                EC.presence_of_element_located((By.CLASS_NAME, \"flex.items-center.gap-2.list-none.border-b.py-1.mb-2\"))\n",
    "            )\n",
    "        except:\n",
    "            continue\n",
    "        soup = BeautifulSoup(ffx.page_source,\"html.parser\")\n",
    "        hehe = soup.find_all(\"li\",attrs={\"class\":\"flex items-center gap-2 list-none border-b py-1 mb-2\"})\n",
    "        for id,target in enumerate(hehe):\n",
    "            hahahaha[\"link\"].append(target.find(\"a\")[\"href\"])\n",
    "            hahahaha[\"name\"].append(target.find(\"img\")[\"alt\"])\n",
    "            hahahaha[\"html_parsed\"].append(None)\n",
    "        if id<999:\n",
    "            check = True\n",
    "        break"
   ]
  },
  {
   "cell_type": "code",
   "execution_count": null,
   "metadata": {
    "colab": {
     "base_uri": "https://localhost:8080/"
    },
    "id": "-qftL_l2okjb",
    "outputId": "19e41ac9-1273-48a9-e50f-42b9163c9a0a"
   },
   "outputs": [
    {
     "name": "stdout",
     "output_type": "stream",
     "text": [
      "60000600106005060030\n",
      "60020\n",
      "\n",
      "60040\n",
      "\n",
      "60060\n",
      "\n"
     ]
    },
    {
     "name": "stderr",
     "output_type": "stream",
     "text": [
      "<ipython-input-2-b1f166629519>:30: FutureWarning: Series.__getitem__ treating keys as positions is deprecated. In a future version, integer keys will always be treated as labels (consistent with DataFrame behavior). To access a value by position, use `ser.iloc[pos]`\n",
      "  ffx.get(row[0] + \"specs/\")\n",
      "<ipython-input-2-b1f166629519>:30: FutureWarning: Series.__getitem__ treating keys as positions is deprecated. In a future version, integer keys will always be treated as labels (consistent with DataFrame behavior). To access a value by position, use `ser.iloc[pos]`\n",
      "  ffx.get(row[0] + \"specs/\")\n",
      "<ipython-input-2-b1f166629519>:30: FutureWarning: Series.__getitem__ treating keys as positions is deprecated. In a future version, integer keys will always be treated as labels (consistent with DataFrame behavior). To access a value by position, use `ser.iloc[pos]`\n",
      "  ffx.get(row[0] + \"specs/\")\n",
      "<ipython-input-2-b1f166629519>:30: FutureWarning: Series.__getitem__ treating keys as positions is deprecated. In a future version, integer keys will always be treated as labels (consistent with DataFrame behavior). To access a value by position, use `ser.iloc[pos]`\n",
      "  ffx.get(row[0] + \"specs/\")\n",
      "<ipython-input-2-b1f166629519>:30: FutureWarning: Series.__getitem__ treating keys as positions is deprecated. In a future version, integer keys will always be treated as labels (consistent with DataFrame behavior). To access a value by position, use `ser.iloc[pos]`\n",
      "  ffx.get(row[0] + \"specs/\")\n",
      "<ipython-input-2-b1f166629519>:30: FutureWarning: Series.__getitem__ treating keys as positions is deprecated. In a future version, integer keys will always be treated as labels (consistent with DataFrame behavior). To access a value by position, use `ser.iloc[pos]`\n",
      "  ffx.get(row[0] + \"specs/\")\n",
      "<ipython-input-2-b1f166629519>:30: FutureWarning: Series.__getitem__ treating keys as positions is deprecated. In a future version, integer keys will always be treated as labels (consistent with DataFrame behavior). To access a value by position, use `ser.iloc[pos]`\n",
      "  ffx.get(row[0] + \"specs/\")\n"
     ]
    },
    {
     "name": "stdout",
     "output_type": "stream",
     "text": [
      "60051\n",
      "60061\n",
      "60001\n",
      "60041\n",
      "6003160011\n",
      "\n",
      "60021\n",
      "60052\n",
      "60032\n",
      "60002\n",
      "60022\n",
      "60062\n",
      "60042\n",
      "60012\n"
     ]
    }
   ],
   "source": [
    "chunksize = 10\n",
    "myhahaha = pd.DataFrame(hahahaha)\n",
    "num_workers = NUM_WORKERS\n",
    "\n",
    "args = [(id,row) for (id,row) in myhahaha[myhahaha[\"CPU\"].isnull()].iterrows()]\n",
    "for hehe in range(0,len(args),SAVE_CHUNK):\n",
    "    with mp.Pool(num_workers) as pool:\n",
    "        res = pool.imap(parse, args[hehe:hehe+SAVE_CHUNK], chunksize=chunksize)\n",
    "        for result_chunk in res:\n",
    "            id,hahahahaha=result_chunk\n",
    "            if not hahahahaha:\n",
    "                continue\n",
    "            for key, value in hahahahaha.items():\n",
    "                myhahaha.at[id,key] = value\n",
    "    myhahaha.to_csv(\"laptop_2.csv\", index=False)"
   ]
  }
 ],
 "metadata": {
  "colab": {
   "authorship_tag": "ABX9TyNpNka+WFJ20i5+F8l4gQx1",
   "provenance": []
  },
  "kernelspec": {
   "display_name": "Python 3",
   "name": "python3"
  },
  "language_info": {
   "codemirror_mode": {
    "name": "ipython",
    "version": 3
   },
   "file_extension": ".py",
   "mimetype": "text/x-python",
   "name": "python",
   "nbconvert_exporter": "python",
   "pygments_lexer": "ipython3",
   "version": "3.11.3"
  }
 },
 "nbformat": 4,
 "nbformat_minor": 0
}
