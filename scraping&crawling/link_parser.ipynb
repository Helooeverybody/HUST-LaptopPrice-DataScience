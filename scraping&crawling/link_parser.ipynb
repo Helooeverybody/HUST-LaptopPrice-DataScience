{
 "cells": [
  {
   "cell_type": "code",
   "execution_count": 1,
   "metadata": {},
   "outputs": [],
   "source": [
    "import requests\n",
    "from bs4 import BeautifulSoup\n",
    "from selenium import webdriver\n",
    "from selenium.webdriver.common.by import By\n",
    "from selenium.webdriver.support.ui import WebDriverWait\n",
    "from selenium.webdriver.support import expected_conditions as EC\n",
    "from selenium.common import TimeoutException\n",
    "import time\n",
    "import pandas as pd\n",
    "import json"
   ]
  },
  {
   "cell_type": "code",
   "execution_count": 2,
   "metadata": {},
   "outputs": [],
   "source": [
    "ffx = webdriver.Chrome()\n",
    "hahahaha = {\"link\":[],\"name\":[],\"html_parsed\":[]}"
   ]
  },
  {
   "cell_type": "code",
   "execution_count": 3,
   "metadata": {},
   "outputs": [],
   "source": [
    "mine = pd.read_csv(\"laptop_link_1.csv\")"
   ]
  },
  {
   "cell_type": "code",
   "execution_count": 4,
   "metadata": {},
   "outputs": [
    {
     "name": "stdout",
     "output_type": "stream",
     "text": [
      "0\n",
      "1\n",
      "2\n",
      "3\n",
      "4\n",
      "5\n",
      "6\n",
      "7\n",
      "8\n",
      "9\n",
      "10\n",
      "11\n",
      "12\n",
      "13\n",
      "14\n",
      "15\n",
      "16\n",
      "17\n",
      "18\n",
      "19\n",
      "20\n",
      "21\n",
      "22\n",
      "23\n",
      "24\n",
      "25\n",
      "26\n",
      "27\n",
      "28\n",
      "29\n",
      "30\n",
      "31\n",
      "32\n",
      "33\n",
      "34\n",
      "35\n",
      "36\n",
      "37\n",
      "38\n",
      "39\n",
      "40\n",
      "41\n",
      "42\n",
      "43\n",
      "44\n",
      "45\n",
      "46\n",
      "47\n",
      "48\n",
      "49\n",
      "50\n",
      "51\n"
     ]
    },
    {
     "data": {
      "text/html": [
       "<div>\n",
       "<style scoped>\n",
       "    .dataframe tbody tr th:only-of-type {\n",
       "        vertical-align: middle;\n",
       "    }\n",
       "\n",
       "    .dataframe tbody tr th {\n",
       "        vertical-align: top;\n",
       "    }\n",
       "\n",
       "    .dataframe thead th {\n",
       "        text-align: right;\n",
       "    }\n",
       "</style>\n",
       "<table border=\"1\" class=\"dataframe\">\n",
       "  <thead>\n",
       "    <tr style=\"text-align: right;\">\n",
       "      <th></th>\n",
       "      <th>Unnamed: 0</th>\n",
       "      <th>link</th>\n",
       "      <th>name</th>\n",
       "      <th>html_parsed</th>\n",
       "    </tr>\n",
       "  </thead>\n",
       "  <tbody>\n",
       "    <tr>\n",
       "      <th>0</th>\n",
       "      <td>0.0</td>\n",
       "      <td>https://laptopmedia.com/laptop-specs/asus-rog-...</td>\n",
       "      <td>ASUS ROG Strix G17</td>\n",
       "      <td>NaN</td>\n",
       "    </tr>\n",
       "    <tr>\n",
       "      <th>1</th>\n",
       "      <td>1.0</td>\n",
       "      <td>https://laptopmedia.com/laptop-specs/asus-rog-...</td>\n",
       "      <td>ASUS ROG Zephyrus Duo 16</td>\n",
       "      <td>NaN</td>\n",
       "    </tr>\n",
       "    <tr>\n",
       "      <th>2</th>\n",
       "      <td>2.0</td>\n",
       "      <td>https://laptopmedia.com/laptop-specs/asus-rog-...</td>\n",
       "      <td>ASUS ROG Zephyrus Duo 16</td>\n",
       "      <td>NaN</td>\n",
       "    </tr>\n",
       "    <tr>\n",
       "      <th>3</th>\n",
       "      <td>3.0</td>\n",
       "      <td>https://laptopmedia.com/laptop-specs/asus-rog-...</td>\n",
       "      <td>ASUS ROG Zephyrus Duo 16</td>\n",
       "      <td>NaN</td>\n",
       "    </tr>\n",
       "    <tr>\n",
       "      <th>4</th>\n",
       "      <td>4.0</td>\n",
       "      <td>https://laptopmedia.com/laptop-specs/asus-rog-...</td>\n",
       "      <td>ASUS ROG Strix G17</td>\n",
       "      <td>NaN</td>\n",
       "    </tr>\n",
       "    <tr>\n",
       "      <th>...</th>\n",
       "      <td>...</td>\n",
       "      <td>...</td>\n",
       "      <td>...</td>\n",
       "      <td>...</td>\n",
       "    </tr>\n",
       "    <tr>\n",
       "      <th>144274</th>\n",
       "      <td>NaN</td>\n",
       "      <td>https://laptopmedia.com/laptop-specs/acer-aspi...</td>\n",
       "      <td>Acer Aspire 5</td>\n",
       "      <td>None</td>\n",
       "    </tr>\n",
       "    <tr>\n",
       "      <th>144275</th>\n",
       "      <td>NaN</td>\n",
       "      <td>https://laptopmedia.com/laptop-specs/hp-17-5749/</td>\n",
       "      <td>HP 17</td>\n",
       "      <td>None</td>\n",
       "    </tr>\n",
       "    <tr>\n",
       "      <th>144276</th>\n",
       "      <td>NaN</td>\n",
       "      <td>https://laptopmedia.com/laptop-specs/hp-17-17-...</td>\n",
       "      <td>HP 17 (17-by4000)</td>\n",
       "      <td>None</td>\n",
       "    </tr>\n",
       "    <tr>\n",
       "      <th>144277</th>\n",
       "      <td>NaN</td>\n",
       "      <td>https://laptopmedia.com/laptop-specs/hp-17-4594/</td>\n",
       "      <td>HP 17</td>\n",
       "      <td>None</td>\n",
       "    </tr>\n",
       "    <tr>\n",
       "      <th>144278</th>\n",
       "      <td>NaN</td>\n",
       "      <td>https://laptopmedia.com/laptop-specs/hp-17-17-...</td>\n",
       "      <td>HP 17 (17-by4000)</td>\n",
       "      <td>None</td>\n",
       "    </tr>\n",
       "  </tbody>\n",
       "</table>\n",
       "<p>323805 rows × 4 columns</p>\n",
       "</div>"
      ],
      "text/plain": [
       "        Unnamed: 0                                               link  \\\n",
       "0              0.0  https://laptopmedia.com/laptop-specs/asus-rog-...   \n",
       "1              1.0  https://laptopmedia.com/laptop-specs/asus-rog-...   \n",
       "2              2.0  https://laptopmedia.com/laptop-specs/asus-rog-...   \n",
       "3              3.0  https://laptopmedia.com/laptop-specs/asus-rog-...   \n",
       "4              4.0  https://laptopmedia.com/laptop-specs/asus-rog-...   \n",
       "...            ...                                                ...   \n",
       "144274         NaN  https://laptopmedia.com/laptop-specs/acer-aspi...   \n",
       "144275         NaN   https://laptopmedia.com/laptop-specs/hp-17-5749/   \n",
       "144276         NaN  https://laptopmedia.com/laptop-specs/hp-17-17-...   \n",
       "144277         NaN   https://laptopmedia.com/laptop-specs/hp-17-4594/   \n",
       "144278         NaN  https://laptopmedia.com/laptop-specs/hp-17-17-...   \n",
       "\n",
       "                            name html_parsed  \n",
       "0             ASUS ROG Strix G17         NaN  \n",
       "1       ASUS ROG Zephyrus Duo 16         NaN  \n",
       "2       ASUS ROG Zephyrus Duo 16         NaN  \n",
       "3       ASUS ROG Zephyrus Duo 16         NaN  \n",
       "4             ASUS ROG Strix G17         NaN  \n",
       "...                          ...         ...  \n",
       "144274             Acer Aspire 5        None  \n",
       "144275                     HP 17        None  \n",
       "144276         HP 17 (17-by4000)        None  \n",
       "144277                     HP 17        None  \n",
       "144278         HP 17 (17-by4000)        None  \n",
       "\n",
       "[323805 rows x 4 columns]"
      ]
     },
     "execution_count": 4,
     "metadata": {},
     "output_type": "execute_result"
    }
   ],
   "source": [
    "with open(\"all link 1.json\",\"r\") as a:\n",
    "    link_list = json.load(a)[\"link\"]\n",
    "for id,link_array in enumerate(link_list):\n",
    "    print(id)\n",
    "    check = False\n",
    "    for link in link_array:\n",
    "        while check == False:\n",
    "            ffx.get(link) \n",
    "            try:\n",
    "                WebDriverWait(ffx, 10).until(\n",
    "                    EC.presence_of_element_located((By.CLASS_NAME, \"flex.items-center.gap-2.list-none.border-b.py-1.mb-2\"))\n",
    "                )\n",
    "            except:\n",
    "                check = True\n",
    "                continue\n",
    "            soup = BeautifulSoup(ffx.page_source,\"html.parser\")\n",
    "            hehe = soup.find_all(\"li\",attrs={\"class\":\"flex items-center gap-2 list-none border-b py-1 mb-2\"})\n",
    "            for id,target in enumerate(hehe):\n",
    "                hahahaha[\"link\"].append(target.find(\"a\")[\"href\"])\n",
    "                hahahaha[\"name\"].append(target.find(\"img\")[\"alt\"])\n",
    "                hahahaha[\"html_parsed\"].append(None)\n",
    "            if id<999:\n",
    "                check = True\n",
    "            break\n",
    "pd.concat([mine,pd.DataFrame(hahahaha)])"
   ]
  },
  {
   "cell_type": "code",
   "execution_count": 9,
   "metadata": {},
   "outputs": [],
   "source": [
    "final = pd.concat([mine,pd.DataFrame(hahahaha)],ignore_index=True)"
   ]
  },
  {
   "cell_type": "code",
   "execution_count": 11,
   "metadata": {},
   "outputs": [],
   "source": [
    "last_final = final.drop(columns=[\"Unnamed: 0\"])"
   ]
  },
  {
   "cell_type": "code",
   "execution_count": 13,
   "metadata": {},
   "outputs": [],
   "source": [
    "really_last_final = last_final.drop_duplicates(subset = [\"link\"])"
   ]
  },
  {
   "cell_type": "code",
   "execution_count": 18,
   "metadata": {},
   "outputs": [],
   "source": [
    "nan = really_last_final.reset_index()"
   ]
  },
  {
   "cell_type": "code",
   "execution_count": 20,
   "metadata": {},
   "outputs": [],
   "source": [
    "nanana = nan.drop(columns=[\"index\"])"
   ]
  },
  {
   "cell_type": "code",
   "execution_count": 22,
   "metadata": {},
   "outputs": [],
   "source": [
    "nanana.to_csv(\"laptop_link.csv\")"
   ]
  },
  {
   "cell_type": "code",
   "execution_count": 5,
   "metadata": {},
   "outputs": [],
   "source": [
    "ffx.close()"
   ]
  },
  {
   "cell_type": "code",
   "execution_count": 6,
   "metadata": {},
   "outputs": [],
   "source": [
    "# hahahahaha.to_csv(\"laptop_link_1.csv\")"
   ]
  }
 ],
 "metadata": {
  "kernelspec": {
   "display_name": "Python 3",
   "language": "python",
   "name": "python3"
  },
  "language_info": {
   "codemirror_mode": {
    "name": "ipython",
    "version": 3
   },
   "file_extension": ".py",
   "mimetype": "text/x-python",
   "name": "python",
   "nbconvert_exporter": "python",
   "pygments_lexer": "ipython3",
   "version": "3.11.3"
  }
 },
 "nbformat": 4,
 "nbformat_minor": 2
}
