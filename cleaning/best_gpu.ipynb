{
 "cells": [
  {
   "cell_type": "code",
   "execution_count": 1,
   "metadata": {},
   "outputs": [],
   "source": [
    "import numpy as np\n",
    "import pandas as pd\n",
    "import matplotlib.pyplot as plt\n",
    "import seaborn as sns"
   ]
  },
  {
   "cell_type": "code",
   "execution_count": null,
   "metadata": {},
   "outputs": [],
   "source": [
    "data_path = '../data/ignore/'\n",
    "cpu_data = 'best_best_gpu.csv'\n",
    "pd1 = pd.read_csv(data_path + cpu_data, dtype=str)"
   ]
  },
  {
   "cell_type": "code",
   "execution_count": 3,
   "metadata": {},
   "outputs": [
    {
     "data": {
      "text/plain": [
       "0         FirePro M4170\n",
       "1        FirePro W4130M\n",
       "2        FirePro W4150M\n",
       "3        FirePro W4170M\n",
       "4        FirePro W4190M\n",
       "             ...       \n",
       "628    GeForce GTX 980M\n",
       "629          Jetson TK1\n",
       "630        Quadro K100M\n",
       "631        Quadro K200M\n",
       "632       Quadro K2200M\n",
       "Name: Name, Length: 633, dtype: object"
      ]
     },
     "execution_count": 3,
     "metadata": {},
     "output_type": "execute_result"
    }
   ],
   "source": [
    "# name\n",
    "name = pd1['Name'].astype(str)\n",
    "name"
   ]
  },
  {
   "cell_type": "code",
   "execution_count": 4,
   "metadata": {},
   "outputs": [
    {
     "data": {
      "text/plain": [
       "0       Opal\n",
       "1       Mars\n",
       "2       Mars\n",
       "3       Opal\n",
       "4       Opal\n",
       "       ...  \n",
       "628    GM204\n",
       "629    GK20A\n",
       "630    GK107\n",
       "631    GK107\n",
       "632    GM107\n",
       "Name: GPU Name, Length: 633, dtype: object"
      ]
     },
     "execution_count": 4,
     "metadata": {},
     "output_type": "execute_result"
    }
   ],
   "source": [
    "# gpu name\n",
    "gpu_name = pd1['GPU Name'].astype(str)\n",
    "gpu_name"
   ]
  },
  {
   "cell_type": "code",
   "execution_count": 5,
   "metadata": {},
   "outputs": [
    {
     "data": {
      "text/plain": [
       "0          GCN 1.0\n",
       "1          GCN 1.0\n",
       "2          GCN 1.0\n",
       "3          GCN 1.0\n",
       "4          GCN 1.0\n",
       "          ...     \n",
       "628    Maxwell 2.0\n",
       "629     Kepler 2.0\n",
       "630         Kepler\n",
       "631         Kepler\n",
       "632        Maxwell\n",
       "Name: Architecture, Length: 633, dtype: object"
      ]
     },
     "execution_count": 5,
     "metadata": {},
     "output_type": "execute_result"
    }
   ],
   "source": [
    "# architecture\n",
    "architecture = pd1['Architecture'].astype(str)\n",
    "architecture"
   ]
  },
  {
   "cell_type": "code",
   "execution_count": 6,
   "metadata": {},
   "outputs": [
    {
     "data": {
      "text/plain": [
       "0      TSMC\n",
       "1      TSMC\n",
       "2      TSMC\n",
       "3      TSMC\n",
       "4      TSMC\n",
       "       ... \n",
       "628    TSMC\n",
       "629    TSMC\n",
       "630    TSMC\n",
       "631    TSMC\n",
       "632    TSMC\n",
       "Name: Foundry, Length: 633, dtype: object"
      ]
     },
     "execution_count": 6,
     "metadata": {},
     "output_type": "execute_result"
    }
   ],
   "source": [
    "# foundry\n",
    "foundry = pd1['Foundry'].astype(str)\n",
    "foundry"
   ]
  },
  {
   "cell_type": "code",
   "execution_count": 7,
   "metadata": {},
   "outputs": [
    {
     "data": {
      "text/plain": [
       "0      28.0\n",
       "1      28.0\n",
       "2      28.0\n",
       "3      28.0\n",
       "4      28.0\n",
       "       ... \n",
       "628    28.0\n",
       "629    28.0\n",
       "630    28.0\n",
       "631    28.0\n",
       "632    28.0\n",
       "Name: Process Size, Length: 633, dtype: float64"
      ]
     },
     "execution_count": 7,
     "metadata": {},
     "output_type": "execute_result"
    }
   ],
   "source": [
    "# process size\n",
    "process_size = pd1['Process Size'].astype(str)\n",
    "process_size = process_size.str.extract(r'(\\d+)', expand=False).astype(float)\n",
    "process_size = process_size.rename('Process Size')\n",
    "process_size"
   ]
  },
  {
   "cell_type": "code",
   "execution_count": 8,
   "metadata": {},
   "outputs": [
    {
     "data": {
      "text/plain": [
       "0      950000000.0\n",
       "1      950000000.0\n",
       "2      950000000.0\n",
       "3      950000000.0\n",
       "4      950000000.0\n",
       "          ...     \n",
       "628      5200000.0\n",
       "629            NaN\n",
       "630      1270000.0\n",
       "631      1270000.0\n",
       "632      1870000.0\n",
       "Name: Transistor Count, Length: 633, dtype: float64"
      ]
     },
     "execution_count": 8,
     "metadata": {},
     "output_type": "execute_result"
    }
   ],
   "source": [
    "# transistor count\n",
    "transistor_count = pd1['Transistors'].astype(str)\n",
    "transistor_count = transistor_count.str.replace(',', '.')\n",
    "transistor_count = transistor_count.str.extract(r'(\\d+\\.?\\d+)', expand=False).astype(float).apply(lambda x: x * 1e6)\n",
    "transistor_count = transistor_count.rename('Transistor Count')\n",
    "transistor_count"
   ]
  },
  {
   "cell_type": "code",
   "execution_count": 9,
   "metadata": {},
   "outputs": [
    {
     "data": {
      "text/plain": [
       "0       77.0\n",
       "1       77.0\n",
       "2       77.0\n",
       "3       77.0\n",
       "4       77.0\n",
       "       ...  \n",
       "628    398.0\n",
       "629      NaN\n",
       "630    118.0\n",
       "631    118.0\n",
       "632    148.0\n",
       "Name: Die Size, Length: 633, dtype: float64"
      ]
     },
     "execution_count": 9,
     "metadata": {},
     "output_type": "execute_result"
    }
   ],
   "source": [
    "# die size\n",
    "die_size = pd1['Die Size'].astype(str)\n",
    "die_size = die_size.str.extract(r'(\\d+)', expand=False).astype(float)\n",
    "die_size = die_size.rename('Die Size')\n",
    "die_size"
   ]
  },
  {
   "cell_type": "code",
   "execution_count": 10,
   "metadata": {},
   "outputs": [
    {
     "data": {
      "text/plain": [
       "0      2015-04-23 00:00:00\n",
       "1                      NaN\n",
       "2                      NaN\n",
       "3      2015-04-23 00:00:00\n",
       "4      2015-11-12 00:00:00\n",
       "              ...         \n",
       "628    2014-10-07 00:00:00\n",
       "629    2014-10-15 00:00:00\n",
       "630    2014-08-22 00:00:00\n",
       "631    2014-08-22 00:00:00\n",
       "632    2014-07-19 00:00:00\n",
       "Name: Release Date, Length: 633, dtype: object"
      ]
     },
     "execution_count": 10,
     "metadata": {},
     "output_type": "execute_result"
    }
   ],
   "source": [
    "import re\n",
    "\n",
    "# Release date\n",
    "release_date = pd1['Release Date'].astype(str)\n",
    "\n",
    "MONTH = {'jan': 1, 'feb': 2, 'mar': 3, 'apr': 4, 'may': 5, 'jun': 6,\n",
    "         'jul': 7, 'aug': 8, 'sep': 9, 'oct': 10, 'nov': 11, 'dec': 12}\n",
    "\n",
    "out = release_date.copy()\n",
    "\n",
    "for i in range(len(release_date)):\n",
    "    row = release_date[i]\n",
    "    res = row.split(' ')\n",
    "    day = 1\n",
    "    month = 1\n",
    "    year = 2014\n",
    "    flag = False\n",
    "    if row == 'nan' or row == 'Never Released' or row == 'Unknown':\n",
    "        out[i] = np.nan\n",
    "        continue\n",
    "    for element in res:\n",
    "        if element.isdigit() and len(element) == 4:\n",
    "            year = int(element)\n",
    "        elif element.isalpha() and element.lower() in MONTH:\n",
    "            month = MONTH[element.lower()]\n",
    "        else:\n",
    "            day = int(re.search(r'\\d+', element).group())\n",
    "\n",
    "    out[i] = pd.Timestamp(year, month, day)\n",
    "\n",
    "release_date = out.rename('Release Date')\n",
    "release_date\n"
   ]
  },
  {
   "cell_type": "code",
   "execution_count": 11,
   "metadata": {},
   "outputs": [
    {
     "data": {
      "text/plain": [
       "0       FirePro Mobile\n",
       "1       FirePro Mobile\n",
       "2       FirePro Mobile\n",
       "3       FirePro Mobile\n",
       "4       FirePro Mobile\n",
       "            ...       \n",
       "628       GeForce 900M\n",
       "629              Tegra\n",
       "630    Quadro Kepler-M\n",
       "631    Quadro Kepler-M\n",
       "632    Quadro Kepler-M\n",
       "Name: Generation, Length: 633, dtype: object"
      ]
     },
     "execution_count": 11,
     "metadata": {},
     "output_type": "execute_result"
    }
   ],
   "source": [
    "# generation\n",
    "generation = pd1['Generation'].astype(str)\n",
    "generation"
   ]
  },
  {
   "cell_type": "code",
   "execution_count": 12,
   "metadata": {},
   "outputs": [],
   "source": [
    "# TODO: bus interface"
   ]
  },
  {
   "cell_type": "code",
   "execution_count": 13,
   "metadata": {},
   "outputs": [
    {
     "data": {
      "text/plain": [
       "0       825.0\n",
       "1       775.0\n",
       "2       800.0\n",
       "3       825.0\n",
       "4       825.0\n",
       "        ...  \n",
       "628    1038.0\n",
       "629     756.0\n",
       "630     851.0\n",
       "631     745.0\n",
       "632    1150.0\n",
       "Name: Base Clock, Length: 633, dtype: float64"
      ]
     },
     "execution_count": 13,
     "metadata": {},
     "output_type": "execute_result"
    }
   ],
   "source": [
    "# base clock\n",
    "base_clock = pd1['Base Clock'].astype(str)\n",
    "base_clock = base_clock.str.extract(r'(\\d+)', expand=False).astype(float)\n",
    "base_clock = base_clock.rename('Base Clock')\n",
    "base_clock"
   ]
  },
  {
   "cell_type": "code",
   "execution_count": 14,
   "metadata": {},
   "outputs": [
    {
     "data": {
      "text/plain": [
       "0       900.0\n",
       "1       825.0\n",
       "2       850.0\n",
       "3       900.0\n",
       "4       900.0\n",
       "        ...  \n",
       "628    1127.0\n",
       "629     951.0\n",
       "630     851.0\n",
       "631     745.0\n",
       "632    1150.0\n",
       "Name: Boost Clock, Length: 633, dtype: float64"
      ]
     },
     "execution_count": 14,
     "metadata": {},
     "output_type": "execute_result"
    }
   ],
   "source": [
    "# boost clock\n",
    "boost_clock = pd1['Boost Clock'].astype(str)\n",
    "boost_clock = boost_clock.str.extract(r'(\\d+)', expand=False).astype(float)\n",
    "boost_clock = boost_clock.rename('Boost Clock')\n",
    "boost_clock"
   ]
  },
  {
   "cell_type": "code",
   "execution_count": 15,
   "metadata": {},
   "outputs": [
    {
     "data": {
      "text/plain": [
       "0      1000.0\n",
       "1      1000.0\n",
       "2      1000.0\n",
       "3      1000.0\n",
       "4      1000.0\n",
       "        ...  \n",
       "628    1253.0\n",
       "629     467.0\n",
       "630     900.0\n",
       "631     900.0\n",
       "632    1253.0\n",
       "Name: Memory Clock, Length: 633, dtype: float64"
      ]
     },
     "execution_count": 15,
     "metadata": {},
     "output_type": "execute_result"
    }
   ],
   "source": [
    "# memory clock\n",
    "memory_clock = pd1['Memory Clock'].astype(str)\n",
    "memory_clock = memory_clock.str.extract(r'(\\d+)', expand=False).astype(float)\n",
    "memory_clock = memory_clock.rename('Memory Clock')\n",
    "memory_clock"
   ]
  },
  {
   "cell_type": "code",
   "execution_count": 16,
   "metadata": {},
   "outputs": [
    {
     "data": {
      "text/plain": [
       "0      1024.0\n",
       "1      1024.0\n",
       "2      1024.0\n",
       "3      2048.0\n",
       "4      2048.0\n",
       "        ...  \n",
       "628    8192.0\n",
       "629    2048.0\n",
       "630    2048.0\n",
       "631    2048.0\n",
       "632    2048.0\n",
       "Name: Memory Size, Length: 633, dtype: object"
      ]
     },
     "execution_count": 16,
     "metadata": {},
     "output_type": "execute_result"
    }
   ],
   "source": [
    "# memory size\n",
    "memory_size = pd1['Memory Size'].astype(str)\n",
    "\n",
    "for i in range(len(memory_size)):\n",
    "    row = memory_size[i]\n",
    "    if row == 'nan' or row == 'Unknown' or row == 'System Shared':\n",
    "        memory_size[i] = np.nan\n",
    "        continue\n",
    "    res = row.split(' ')\n",
    "    if res[-1].lower() == 'gb':\n",
    "        memory_size[i] = float(res[0]) * 1024\n",
    "    else:\n",
    "        memory_size[i] = float(res[0])\n",
    "\n",
    "memory_size = memory_size.rename('Memory Size')\n",
    "memory_size"
   ]
  },
  {
   "cell_type": "code",
   "execution_count": 17,
   "metadata": {},
   "outputs": [
    {
     "data": {
      "text/plain": [
       "0      GDDR5\n",
       "1      GDDR5\n",
       "2      GDDR5\n",
       "3      GDDR5\n",
       "4      GDDR5\n",
       "       ...  \n",
       "628    GDDR5\n",
       "629    DDR3L\n",
       "630     DDR3\n",
       "631     DDR3\n",
       "632    GDDR5\n",
       "Name: Memory Type, Length: 633, dtype: object"
      ]
     },
     "execution_count": 17,
     "metadata": {},
     "output_type": "execute_result"
    }
   ],
   "source": [
    "# memory type\n",
    "memory_type = pd1['Memory Type'].astype(str)\n",
    "memory_type"
   ]
  },
  {
   "cell_type": "code",
   "execution_count": 18,
   "metadata": {},
   "outputs": [
    {
     "data": {
      "text/plain": [
       "0      128.0\n",
       "1      128.0\n",
       "2      128.0\n",
       "3      128.0\n",
       "4      128.0\n",
       "       ...  \n",
       "628    256.0\n",
       "629     64.0\n",
       "630     64.0\n",
       "631     64.0\n",
       "632    128.0\n",
       "Name: Memory Bus, Length: 633, dtype: float64"
      ]
     },
     "execution_count": 18,
     "metadata": {},
     "output_type": "execute_result"
    }
   ],
   "source": [
    "# memory bus\n",
    "memory_bus = pd1['Memory Bus'].astype(str)\n",
    "memory_bus = memory_bus.str.extract(r'(\\d+)', expand=False).astype(float)\n",
    "memory_bus = memory_bus.rename('Memory Bus')\n",
    "memory_bus"
   ]
  },
  {
   "cell_type": "code",
   "execution_count": 19,
   "metadata": {},
   "outputs": [
    {
     "data": {
      "text/plain": [
       "0       64.0\n",
       "1       64.0\n",
       "2       64.0\n",
       "3       64.0\n",
       "4       64.0\n",
       "       ...  \n",
       "628    160.4\n",
       "629    7.472\n",
       "630     14.4\n",
       "631     14.4\n",
       "632    80.19\n",
       "Name: Memory Bandwidth, Length: 633, dtype: object"
      ]
     },
     "execution_count": 19,
     "metadata": {},
     "output_type": "execute_result"
    }
   ],
   "source": [
    "# memory bandwidth\n",
    "memory_bandwidth = pd1['Bandwidth'].astype(str)\n",
    "\n",
    "for i in range(len(memory_bandwidth)):\n",
    "    row = memory_bandwidth[i]\n",
    "    if row == 'nan' or row == 'Unknown' or row == 'System Dependent':\n",
    "        memory_bandwidth[i] = np.nan\n",
    "        continue\n",
    "    res = row.split(' ')\n",
    "    if res[-1].lower() == 'tb/s':\n",
    "        memory_bandwidth[i] = float(res[0]) * 1024\n",
    "    else:\n",
    "        memory_bandwidth[i] = float(res[0])\n",
    "\n",
    "memory_bandwidth = memory_bandwidth.rename('Memory Bandwidth')\n",
    "memory_bandwidth"
   ]
  },
  {
   "cell_type": "code",
   "execution_count": 20,
   "metadata": {},
   "outputs": [
    {
     "data": {
      "text/plain": [
       "0       384.0\n",
       "1       384.0\n",
       "2       384.0\n",
       "3       384.0\n",
       "4       384.0\n",
       "        ...  \n",
       "628    1536.0\n",
       "629     192.0\n",
       "630     192.0\n",
       "631     192.0\n",
       "632     640.0\n",
       "Name: Shading Units, Length: 633, dtype: float64"
      ]
     },
     "execution_count": 20,
     "metadata": {},
     "output_type": "execute_result"
    }
   ],
   "source": [
    "# shading units\n",
    "shading_units = pd1['Shading Units'].astype(str)\n",
    "shading_units = shading_units.str.extract(r'(\\d+)', expand=False).astype(float)\n",
    "shading_units = shading_units.rename('Shading Units')\n",
    "shading_units"
   ]
  },
  {
   "cell_type": "code",
   "execution_count": 21,
   "metadata": {},
   "outputs": [
    {
     "data": {
      "text/plain": [
       "0      24.0\n",
       "1      24.0\n",
       "2      24.0\n",
       "3      24.0\n",
       "4      24.0\n",
       "       ... \n",
       "628    96.0\n",
       "629     8.0\n",
       "630    16.0\n",
       "631    16.0\n",
       "632    40.0\n",
       "Name: TMUs, Length: 633, dtype: float64"
      ]
     },
     "execution_count": 21,
     "metadata": {},
     "output_type": "execute_result"
    }
   ],
   "source": [
    "# TMUs\n",
    "TMUs = pd1['TMUs'].astype(str)\n",
    "TMUs = TMUs.str.extract(r'(\\d+)', expand=False).astype(float)\n",
    "TMUs = TMUs.rename('TMUs')\n",
    "TMUs"
   ]
  },
  {
   "cell_type": "code",
   "execution_count": 22,
   "metadata": {},
   "outputs": [
    {
     "data": {
      "text/plain": [
       "0       8.0\n",
       "1       8.0\n",
       "2       8.0\n",
       "3       8.0\n",
       "4       8.0\n",
       "       ... \n",
       "628    64.0\n",
       "629     4.0\n",
       "630     8.0\n",
       "631     8.0\n",
       "632    16.0\n",
       "Name: ROPs, Length: 633, dtype: float64"
      ]
     },
     "execution_count": 22,
     "metadata": {},
     "output_type": "execute_result"
    }
   ],
   "source": [
    "# ROPs\n",
    "ROPs = pd1['ROPs'].astype(str)\n",
    "ROPs = ROPs.str.extract(r'(\\d+)', expand=False).astype(float)\n",
    "ROPs = ROPs.rename('ROPs')\n",
    "ROPs"
   ]
  },
  {
   "cell_type": "code",
   "execution_count": 23,
   "metadata": {},
   "outputs": [
    {
     "data": {
      "text/plain": [
       "0      6.0\n",
       "1      6.0\n",
       "2      6.0\n",
       "3      6.0\n",
       "4      6.0\n",
       "      ... \n",
       "628    NaN\n",
       "629    NaN\n",
       "630    NaN\n",
       "631    NaN\n",
       "632    NaN\n",
       "Name: Compute Units, Length: 633, dtype: float64"
      ]
     },
     "execution_count": 23,
     "metadata": {},
     "output_type": "execute_result"
    }
   ],
   "source": [
    "# compute units\n",
    "compute_units = pd1['Compute Units'].astype(str)\n",
    "compute_units = compute_units.str.extract(r'(\\d+)', expand=False).astype(float)\n",
    "compute_units = compute_units.rename('Compute Units')\n",
    "compute_units"
   ]
  },
  {
   "cell_type": "code",
   "execution_count": 24,
   "metadata": {},
   "outputs": [
    {
     "data": {
      "text/plain": [
       "0     NaN\n",
       "1     NaN\n",
       "2     NaN\n",
       "3     NaN\n",
       "4     NaN\n",
       "       ..\n",
       "628   NaN\n",
       "629   NaN\n",
       "630   NaN\n",
       "631   NaN\n",
       "632   NaN\n",
       "Name: L0 Cache, Length: 633, dtype: float64"
      ]
     },
     "execution_count": 24,
     "metadata": {},
     "output_type": "execute_result"
    }
   ],
   "source": [
    "# l0 cache\n",
    "l0_cache = pd1['L0 Cache'].astype(str)\n",
    "l0_cache = l0_cache.str.extract(r'(\\d+)', expand=False).astype(float)\n",
    "l0_cache = l0_cache.rename('L0 Cache')\n",
    "l0_cache"
   ]
  },
  {
   "cell_type": "code",
   "execution_count": 25,
   "metadata": {},
   "outputs": [
    {
     "data": {
      "text/plain": [
       "0      16.0\n",
       "1      16.0\n",
       "2      16.0\n",
       "3      16.0\n",
       "4      16.0\n",
       "       ... \n",
       "628    48.0\n",
       "629    16.0\n",
       "630    16.0\n",
       "631    16.0\n",
       "632    64.0\n",
       "Name: L1 Cache, Length: 633, dtype: float64"
      ]
     },
     "execution_count": 25,
     "metadata": {},
     "output_type": "execute_result"
    }
   ],
   "source": [
    "# L1 cache\n",
    "L1_cache = pd1['L1 Cache'].astype(str)\n",
    "L1_cache = L1_cache.str.extract(r'(\\d+)', expand=False).astype(float)\n",
    "L1_cache = L1_cache.rename('L1 Cache')\n",
    "L1_cache"
   ]
  },
  {
   "cell_type": "code",
   "execution_count": 26,
   "metadata": {},
   "outputs": [
    {
     "data": {
      "text/plain": [
       "0      0.250\n",
       "1      0.250\n",
       "2      0.250\n",
       "3      0.250\n",
       "4      0.250\n",
       "       ...  \n",
       "628    2.000\n",
       "629    0.125\n",
       "630    0.125\n",
       "631    0.125\n",
       "632    2.000\n",
       "Name: L2 Cache, Length: 633, dtype: float64"
      ]
     },
     "execution_count": 26,
     "metadata": {},
     "output_type": "execute_result"
    }
   ],
   "source": [
    "# L2 cache\n",
    "L2_cache = pd1['L2 Cache'].astype(str)\n",
    "\n",
    "for i in range(len(L2_cache)):\n",
    "    row = L2_cache[i]\n",
    "    if row == 'nan' or row == 'Unknown':\n",
    "        L2_cache[i] = np.nan\n",
    "        continue\n",
    "    res = row.split(' ')\n",
    "    if res[-1].lower() == 'kb':\n",
    "        L2_cache[i] = float(res[0]) / 1024\n",
    "    else:\n",
    "        L2_cache[i] = float(res[0])\n",
    "\n",
    "L2_cache = L2_cache.rename('L2 Cache').astype(float)\n",
    "L2_cache"
   ]
  },
  {
   "cell_type": "code",
   "execution_count": 27,
   "metadata": {},
   "outputs": [
    {
     "data": {
      "text/plain": [
       "0     NaN\n",
       "1     NaN\n",
       "2     NaN\n",
       "3     NaN\n",
       "4     NaN\n",
       "       ..\n",
       "628   NaN\n",
       "629   NaN\n",
       "630   NaN\n",
       "631   NaN\n",
       "632   NaN\n",
       "Name: L3 Cache, Length: 633, dtype: float64"
      ]
     },
     "execution_count": 27,
     "metadata": {},
     "output_type": "execute_result"
    }
   ],
   "source": [
    "# L3 cache\n",
    "L3_cache = pd1['L3 Cache'].astype(str)\n",
    "L3_cache = L3_cache.str.extract(r'(\\d+)', expand=False).astype(float)\n",
    "L3_cache = L3_cache.rename('L3 Cache')\n",
    "L3_cache"
   ]
  },
  {
   "cell_type": "code",
   "execution_count": 28,
   "metadata": {},
   "outputs": [
    {
     "data": {
      "text/plain": [
       "0       7.200\n",
       "1       6.600\n",
       "2       6.800\n",
       "3       7.200\n",
       "4       7.200\n",
       "        ...  \n",
       "628    72.130\n",
       "629     3.804\n",
       "630     3.404\n",
       "631     2.980\n",
       "632    18.400\n",
       "Name: Pixel Rate, Length: 633, dtype: float64"
      ]
     },
     "execution_count": 28,
     "metadata": {},
     "output_type": "execute_result"
    }
   ],
   "source": [
    "# pixel rate\n",
    "pixel_rate = pd1['Pixel Rate'].astype(str)\n",
    "pixel_rate = pixel_rate.str.extract(r'(\\d+\\.?\\d+)', expand=False).astype(float)\n",
    "pixel_rate = pixel_rate.rename('Pixel Rate')\n",
    "pixel_rate"
   ]
  },
  {
   "cell_type": "code",
   "execution_count": 29,
   "metadata": {},
   "outputs": [
    {
     "data": {
      "text/plain": [
       "0       21.600\n",
       "1       19.800\n",
       "2       20.400\n",
       "3       21.600\n",
       "4       21.600\n",
       "        ...   \n",
       "628    108.200\n",
       "629      7.608\n",
       "630     13.620\n",
       "631     11.920\n",
       "632     46.000\n",
       "Name: Texture Rate, Length: 633, dtype: float64"
      ]
     },
     "execution_count": 29,
     "metadata": {},
     "output_type": "execute_result"
    }
   ],
   "source": [
    "# texture rate\n",
    "texture_rate = pd1['Texture Rate'].astype(str)\n",
    "texture_rate = texture_rate.str.extract(r'(\\d+\\.?\\d+)', expand=False).astype(float)\n",
    "texture_rate = texture_rate.rename('Texture Rate')\n",
    "texture_rate"
   ]
  },
  {
   "cell_type": "code",
   "execution_count": 30,
   "metadata": {},
   "outputs": [
    {
     "data": {
      "text/plain": [
       "0       691.2\n",
       "1       633.6\n",
       "2       652.8\n",
       "3       691.2\n",
       "4       691.2\n",
       "        ...  \n",
       "628    3462.0\n",
       "629     365.2\n",
       "630     326.8\n",
       "631     286.1\n",
       "632     1.472\n",
       "Name: Floating Point Performance 32-bit, Length: 633, dtype: object"
      ]
     },
     "execution_count": 30,
     "metadata": {},
     "output_type": "execute_result"
    }
   ],
   "source": [
    "# floating point performance 32-bit\n",
    "floating_point_performance_32 = pd1['FP32 (float)'].astype(str)\n",
    "\n",
    "for i in range(len(floating_point_performance_32)):\n",
    "    row = floating_point_performance_32[i]\n",
    "    row = row.replace(',', '.')\n",
    "    if row == 'nan' or row == 'Unknown':\n",
    "        floating_point_performance_32[i] = np.nan\n",
    "        continue\n",
    "    res = row.split(' ')\n",
    "    if res[-1].lower() == 'tflops':\n",
    "        floating_point_performance_32[i] = float(res[0]) * 1000\n",
    "    else:\n",
    "        floating_point_performance_32[i] = float(res[0])\n",
    "\n",
    "floating_point_performance_32 = floating_point_performance_32.rename('Floating Point Performance 32-bit')\n",
    "floating_point_performance_32"
   ]
  },
  {
   "cell_type": "code",
   "execution_count": 31,
   "metadata": {},
   "outputs": [
    {
     "data": {
      "text/plain": [
       "0       43.2\n",
       "1        NaN\n",
       "2        NaN\n",
       "3       43.2\n",
       "4       43.2\n",
       "       ...  \n",
       "628    108.2\n",
       "629    11.41\n",
       "630    13.62\n",
       "631    11.92\n",
       "632     46.0\n",
       "Name: Floating Point Performance 64-bit, Length: 633, dtype: object"
      ]
     },
     "execution_count": 31,
     "metadata": {},
     "output_type": "execute_result"
    }
   ],
   "source": [
    "# floating point performance 64-bit\n",
    "floating_point_performance_64 = pd1['FP64 (double)'].astype(str)\n",
    "\n",
    "for i in range(len(floating_point_performance_64)):\n",
    "    row = floating_point_performance_64[i]\n",
    "    row = row.replace(',', '.')\n",
    "    if row == 'nan' or row == 'Unknown':\n",
    "        floating_point_performance_64[i] = np.nan\n",
    "        continue\n",
    "    res = row.split(' ')\n",
    "    if res[-1].lower() == 'tflops':\n",
    "        floating_point_performance_64[i] = float(res[0]) * 1000\n",
    "    else:\n",
    "        floating_point_performance_64[i] = float(res[0])\n",
    "\n",
    "floating_point_performance_64 = floating_point_performance_64.rename('Floating Point Performance 64-bit')\n",
    "floating_point_performance_64"
   ]
  },
  {
   "cell_type": "code",
   "execution_count": 32,
   "metadata": {},
   "outputs": [
    {
     "data": {
      "text/plain": [
       "0       NaN\n",
       "1       NaN\n",
       "2       NaN\n",
       "3       NaN\n",
       "4       NaN\n",
       "       ... \n",
       "628     NaN\n",
       "629     8.0\n",
       "630    35.0\n",
       "631    35.0\n",
       "632    65.0\n",
       "Name: TDP, Length: 633, dtype: float64"
      ]
     },
     "execution_count": 32,
     "metadata": {},
     "output_type": "execute_result"
    }
   ],
   "source": [
    "# TDP\n",
    "TDP = pd1['TDP'].astype(str)\n",
    "TDP = TDP.str.extract(r'(\\d+)', expand=False).astype(float)\n",
    "TDP = TDP.rename('TDP')\n",
    "TDP"
   ]
  },
  {
   "cell_type": "code",
   "execution_count": 33,
   "metadata": {},
   "outputs": [
    {
     "data": {
      "text/plain": [
       "0      12\n",
       "1      12\n",
       "2      12\n",
       "3      12\n",
       "4      12\n",
       "       ..\n",
       "628    12\n",
       "629    12\n",
       "630    12\n",
       "631    12\n",
       "632    12\n",
       "Name: DirectX, Length: 633, dtype: object"
      ]
     },
     "execution_count": 33,
     "metadata": {},
     "output_type": "execute_result"
    }
   ],
   "source": [
    "# directx\n",
    "directx = pd1['DirectX'].astype(str)\n",
    "directx"
   ]
  },
  {
   "cell_type": "code",
   "execution_count": 34,
   "metadata": {},
   "outputs": [
    {
     "data": {
      "text/plain": [
       "0         4.6\n",
       "1         4.6\n",
       "2         4.6\n",
       "3         4.6\n",
       "4         4.6\n",
       "        ...  \n",
       "628       4.6\n",
       "629    ES 3.1\n",
       "630       4.6\n",
       "631       4.6\n",
       "632       4.6\n",
       "Name: OpenGL, Length: 633, dtype: object"
      ]
     },
     "execution_count": 34,
     "metadata": {},
     "output_type": "execute_result"
    }
   ],
   "source": [
    "# openGL\n",
    "openGL = pd1['OpenGL'].astype(str)\n",
    "openGL"
   ]
  },
  {
   "cell_type": "code",
   "execution_count": 35,
   "metadata": {},
   "outputs": [
    {
     "data": {
      "text/plain": [
       "0      1.2.170\n",
       "1      1.2.170\n",
       "2      1.2.170\n",
       "3      1.2.170\n",
       "4      1.2.170\n",
       "        ...   \n",
       "628        1.3\n",
       "629        1.3\n",
       "630    1.2.175\n",
       "631    1.2.175\n",
       "632        1.3\n",
       "Name: Vulkan, Length: 633, dtype: object"
      ]
     },
     "execution_count": 35,
     "metadata": {},
     "output_type": "execute_result"
    }
   ],
   "source": [
    "# vulkan\n",
    "vulkan = pd1['Vulkan'].astype(str)\n",
    "vulkan"
   ]
  },
  {
   "cell_type": "code",
   "execution_count": 36,
   "metadata": {},
   "outputs": [
    {
     "data": {
      "text/plain": [
       "0      6.0\n",
       "1      6.0\n",
       "2      6.0\n",
       "3      6.0\n",
       "4      6.0\n",
       "      ... \n",
       "628    6.0\n",
       "629    6.0\n",
       "630    6.0\n",
       "631    6.0\n",
       "632    6.0\n",
       "Name: Shader Model, Length: 633, dtype: float64"
      ]
     },
     "execution_count": 36,
     "metadata": {},
     "output_type": "execute_result"
    }
   ],
   "source": [
    "# shader model\n",
    "shader_model = pd1['Shader Model'].astype(str)\n",
    "shader_model = shader_model.str.extract(r'(\\d+)', expand=False).astype(float)\n",
    "shader_model = shader_model.rename('Shader Model')\n",
    "shader_model"
   ]
  },
  {
   "cell_type": "code",
   "execution_count": 37,
   "metadata": {},
   "outputs": [
    {
     "data": {
      "text/plain": [
       "0       NaN\n",
       "1       NaN\n",
       "2       NaN\n",
       "3       NaN\n",
       "4       NaN\n",
       "       ... \n",
       "628    12.0\n",
       "629     NaN\n",
       "630     NaN\n",
       "631     NaN\n",
       "632     5.0\n",
       "Name: SMM Count, Length: 633, dtype: float64"
      ]
     },
     "execution_count": 37,
     "metadata": {},
     "output_type": "execute_result"
    }
   ],
   "source": [
    "# smm count\n",
    "smm_count = pd1['SMM Count'].astype(str)\n",
    "smm_count = smm_count.str.extract(r'(\\d+)', expand=False).astype(float)\n",
    "smm_count = smm_count.rename('SMM Count')\n",
    "smm_count"
   ]
  },
  {
   "cell_type": "code",
   "execution_count": 38,
   "metadata": {},
   "outputs": [
    {
     "data": {
      "text/plain": [
       "0     NaN\n",
       "1     NaN\n",
       "2     NaN\n",
       "3     NaN\n",
       "4     NaN\n",
       "       ..\n",
       "628   NaN\n",
       "629   NaN\n",
       "630   NaN\n",
       "631   NaN\n",
       "632   NaN\n",
       "Name: SM Count, Length: 633, dtype: float64"
      ]
     },
     "execution_count": 38,
     "metadata": {},
     "output_type": "execute_result"
    }
   ],
   "source": [
    "# sm count\n",
    "sm_count = pd1['SM Count'].astype(str)\n",
    "sm_count = sm_count.str.extract(r'(\\d+)', expand=False).astype(float)\n",
    "sm_count = sm_count.rename('SM Count')\n",
    "sm_count"
   ]
  },
  {
   "cell_type": "code",
   "execution_count": 39,
   "metadata": {},
   "outputs": [
    {
     "data": {
      "text/plain": [
       "0     NaN\n",
       "1     NaN\n",
       "2     NaN\n",
       "3     NaN\n",
       "4     NaN\n",
       "       ..\n",
       "628   NaN\n",
       "629   NaN\n",
       "630   NaN\n",
       "631   NaN\n",
       "632   NaN\n",
       "Name: Tensor Cores, Length: 633, dtype: float64"
      ]
     },
     "execution_count": 39,
     "metadata": {},
     "output_type": "execute_result"
    }
   ],
   "source": [
    "# tensor cores\n",
    "tensor_cores = pd1['Tensor Cores'].astype(str)\n",
    "tensor_cores = tensor_cores.str.extract(r'(\\d+)', expand=False).astype(float)\n",
    "tensor_cores = tensor_cores.rename('Tensor Cores')\n",
    "tensor_cores"
   ]
  },
  {
   "cell_type": "code",
   "execution_count": 40,
   "metadata": {},
   "outputs": [
    {
     "data": {
      "text/plain": [
       "0     NaN\n",
       "1     NaN\n",
       "2     NaN\n",
       "3     NaN\n",
       "4     NaN\n",
       "       ..\n",
       "628   NaN\n",
       "629   NaN\n",
       "630   NaN\n",
       "631   NaN\n",
       "632   NaN\n",
       "Name: RT Cores, Length: 633, dtype: float64"
      ]
     },
     "execution_count": 40,
     "metadata": {},
     "output_type": "execute_result"
    }
   ],
   "source": [
    "# RT cores\n",
    "RT_cores = pd1['RT Cores'].astype(str)\n",
    "RT_cores = RT_cores.str.extract(r'(\\d+)', expand=False).astype(float)\n",
    "RT_cores = RT_cores.rename('RT Cores')\n",
    "RT_cores"
   ]
  },
  {
   "cell_type": "code",
   "execution_count": 41,
   "metadata": {},
   "outputs": [
    {
     "data": {
      "text/html": [
       "<div>\n",
       "<style scoped>\n",
       "    .dataframe tbody tr th:only-of-type {\n",
       "        vertical-align: middle;\n",
       "    }\n",
       "\n",
       "    .dataframe tbody tr th {\n",
       "        vertical-align: top;\n",
       "    }\n",
       "\n",
       "    .dataframe thead th {\n",
       "        text-align: right;\n",
       "    }\n",
       "</style>\n",
       "<table border=\"1\" class=\"dataframe\">\n",
       "  <thead>\n",
       "    <tr style=\"text-align: right;\">\n",
       "      <th></th>\n",
       "      <th>Name</th>\n",
       "      <th>GPU Name</th>\n",
       "      <th>Architecture</th>\n",
       "      <th>Foundry</th>\n",
       "      <th>Process Size</th>\n",
       "      <th>Transistor Count</th>\n",
       "      <th>Die Size</th>\n",
       "      <th>Release Date</th>\n",
       "      <th>Generation</th>\n",
       "      <th>Base Clock</th>\n",
       "      <th>...</th>\n",
       "      <th>Floating Point Performance 64-bit</th>\n",
       "      <th>TDP</th>\n",
       "      <th>DirectX</th>\n",
       "      <th>OpenGL</th>\n",
       "      <th>Vulkan</th>\n",
       "      <th>Shader Model</th>\n",
       "      <th>SMM Count</th>\n",
       "      <th>SM Count</th>\n",
       "      <th>Tensor Cores</th>\n",
       "      <th>RT Cores</th>\n",
       "    </tr>\n",
       "  </thead>\n",
       "  <tbody>\n",
       "    <tr>\n",
       "      <th>0</th>\n",
       "      <td>FirePro M4170</td>\n",
       "      <td>Opal</td>\n",
       "      <td>GCN 1.0</td>\n",
       "      <td>TSMC</td>\n",
       "      <td>28.0</td>\n",
       "      <td>950000000.0</td>\n",
       "      <td>77.0</td>\n",
       "      <td>2015-04-23 00:00:00</td>\n",
       "      <td>FirePro Mobile</td>\n",
       "      <td>825.0</td>\n",
       "      <td>...</td>\n",
       "      <td>43.2</td>\n",
       "      <td>NaN</td>\n",
       "      <td>12</td>\n",
       "      <td>4.6</td>\n",
       "      <td>1.2.170</td>\n",
       "      <td>6.0</td>\n",
       "      <td>NaN</td>\n",
       "      <td>NaN</td>\n",
       "      <td>NaN</td>\n",
       "      <td>NaN</td>\n",
       "    </tr>\n",
       "    <tr>\n",
       "      <th>1</th>\n",
       "      <td>FirePro W4130M</td>\n",
       "      <td>Mars</td>\n",
       "      <td>GCN 1.0</td>\n",
       "      <td>TSMC</td>\n",
       "      <td>28.0</td>\n",
       "      <td>950000000.0</td>\n",
       "      <td>77.0</td>\n",
       "      <td>NaN</td>\n",
       "      <td>FirePro Mobile</td>\n",
       "      <td>775.0</td>\n",
       "      <td>...</td>\n",
       "      <td>NaN</td>\n",
       "      <td>NaN</td>\n",
       "      <td>12</td>\n",
       "      <td>4.6</td>\n",
       "      <td>1.2.170</td>\n",
       "      <td>6.0</td>\n",
       "      <td>NaN</td>\n",
       "      <td>NaN</td>\n",
       "      <td>NaN</td>\n",
       "      <td>NaN</td>\n",
       "    </tr>\n",
       "    <tr>\n",
       "      <th>2</th>\n",
       "      <td>FirePro W4150M</td>\n",
       "      <td>Mars</td>\n",
       "      <td>GCN 1.0</td>\n",
       "      <td>TSMC</td>\n",
       "      <td>28.0</td>\n",
       "      <td>950000000.0</td>\n",
       "      <td>77.0</td>\n",
       "      <td>NaN</td>\n",
       "      <td>FirePro Mobile</td>\n",
       "      <td>800.0</td>\n",
       "      <td>...</td>\n",
       "      <td>NaN</td>\n",
       "      <td>NaN</td>\n",
       "      <td>12</td>\n",
       "      <td>4.6</td>\n",
       "      <td>1.2.170</td>\n",
       "      <td>6.0</td>\n",
       "      <td>NaN</td>\n",
       "      <td>NaN</td>\n",
       "      <td>NaN</td>\n",
       "      <td>NaN</td>\n",
       "    </tr>\n",
       "    <tr>\n",
       "      <th>3</th>\n",
       "      <td>FirePro W4170M</td>\n",
       "      <td>Opal</td>\n",
       "      <td>GCN 1.0</td>\n",
       "      <td>TSMC</td>\n",
       "      <td>28.0</td>\n",
       "      <td>950000000.0</td>\n",
       "      <td>77.0</td>\n",
       "      <td>2015-04-23 00:00:00</td>\n",
       "      <td>FirePro Mobile</td>\n",
       "      <td>825.0</td>\n",
       "      <td>...</td>\n",
       "      <td>43.2</td>\n",
       "      <td>NaN</td>\n",
       "      <td>12</td>\n",
       "      <td>4.6</td>\n",
       "      <td>1.2.170</td>\n",
       "      <td>6.0</td>\n",
       "      <td>NaN</td>\n",
       "      <td>NaN</td>\n",
       "      <td>NaN</td>\n",
       "      <td>NaN</td>\n",
       "    </tr>\n",
       "    <tr>\n",
       "      <th>4</th>\n",
       "      <td>FirePro W4190M</td>\n",
       "      <td>Opal</td>\n",
       "      <td>GCN 1.0</td>\n",
       "      <td>TSMC</td>\n",
       "      <td>28.0</td>\n",
       "      <td>950000000.0</td>\n",
       "      <td>77.0</td>\n",
       "      <td>2015-11-12 00:00:00</td>\n",
       "      <td>FirePro Mobile</td>\n",
       "      <td>825.0</td>\n",
       "      <td>...</td>\n",
       "      <td>43.2</td>\n",
       "      <td>NaN</td>\n",
       "      <td>12</td>\n",
       "      <td>4.6</td>\n",
       "      <td>1.2.170</td>\n",
       "      <td>6.0</td>\n",
       "      <td>NaN</td>\n",
       "      <td>NaN</td>\n",
       "      <td>NaN</td>\n",
       "      <td>NaN</td>\n",
       "    </tr>\n",
       "    <tr>\n",
       "      <th>...</th>\n",
       "      <td>...</td>\n",
       "      <td>...</td>\n",
       "      <td>...</td>\n",
       "      <td>...</td>\n",
       "      <td>...</td>\n",
       "      <td>...</td>\n",
       "      <td>...</td>\n",
       "      <td>...</td>\n",
       "      <td>...</td>\n",
       "      <td>...</td>\n",
       "      <td>...</td>\n",
       "      <td>...</td>\n",
       "      <td>...</td>\n",
       "      <td>...</td>\n",
       "      <td>...</td>\n",
       "      <td>...</td>\n",
       "      <td>...</td>\n",
       "      <td>...</td>\n",
       "      <td>...</td>\n",
       "      <td>...</td>\n",
       "      <td>...</td>\n",
       "    </tr>\n",
       "    <tr>\n",
       "      <th>628</th>\n",
       "      <td>GeForce GTX 980M</td>\n",
       "      <td>GM204</td>\n",
       "      <td>Maxwell 2.0</td>\n",
       "      <td>TSMC</td>\n",
       "      <td>28.0</td>\n",
       "      <td>5200000.0</td>\n",
       "      <td>398.0</td>\n",
       "      <td>2014-10-07 00:00:00</td>\n",
       "      <td>GeForce 900M</td>\n",
       "      <td>1038.0</td>\n",
       "      <td>...</td>\n",
       "      <td>108.2</td>\n",
       "      <td>NaN</td>\n",
       "      <td>12</td>\n",
       "      <td>4.6</td>\n",
       "      <td>1.3</td>\n",
       "      <td>6.0</td>\n",
       "      <td>12.0</td>\n",
       "      <td>NaN</td>\n",
       "      <td>NaN</td>\n",
       "      <td>NaN</td>\n",
       "    </tr>\n",
       "    <tr>\n",
       "      <th>629</th>\n",
       "      <td>Jetson TK1</td>\n",
       "      <td>GK20A</td>\n",
       "      <td>Kepler 2.0</td>\n",
       "      <td>TSMC</td>\n",
       "      <td>28.0</td>\n",
       "      <td>NaN</td>\n",
       "      <td>NaN</td>\n",
       "      <td>2014-10-15 00:00:00</td>\n",
       "      <td>Tegra</td>\n",
       "      <td>756.0</td>\n",
       "      <td>...</td>\n",
       "      <td>11.41</td>\n",
       "      <td>8.0</td>\n",
       "      <td>12</td>\n",
       "      <td>ES 3.1</td>\n",
       "      <td>1.3</td>\n",
       "      <td>6.0</td>\n",
       "      <td>NaN</td>\n",
       "      <td>NaN</td>\n",
       "      <td>NaN</td>\n",
       "      <td>NaN</td>\n",
       "    </tr>\n",
       "    <tr>\n",
       "      <th>630</th>\n",
       "      <td>Quadro K100M</td>\n",
       "      <td>GK107</td>\n",
       "      <td>Kepler</td>\n",
       "      <td>TSMC</td>\n",
       "      <td>28.0</td>\n",
       "      <td>1270000.0</td>\n",
       "      <td>118.0</td>\n",
       "      <td>2014-08-22 00:00:00</td>\n",
       "      <td>Quadro Kepler-M</td>\n",
       "      <td>851.0</td>\n",
       "      <td>...</td>\n",
       "      <td>13.62</td>\n",
       "      <td>35.0</td>\n",
       "      <td>12</td>\n",
       "      <td>4.6</td>\n",
       "      <td>1.2.175</td>\n",
       "      <td>6.0</td>\n",
       "      <td>NaN</td>\n",
       "      <td>NaN</td>\n",
       "      <td>NaN</td>\n",
       "      <td>NaN</td>\n",
       "    </tr>\n",
       "    <tr>\n",
       "      <th>631</th>\n",
       "      <td>Quadro K200M</td>\n",
       "      <td>GK107</td>\n",
       "      <td>Kepler</td>\n",
       "      <td>TSMC</td>\n",
       "      <td>28.0</td>\n",
       "      <td>1270000.0</td>\n",
       "      <td>118.0</td>\n",
       "      <td>2014-08-22 00:00:00</td>\n",
       "      <td>Quadro Kepler-M</td>\n",
       "      <td>745.0</td>\n",
       "      <td>...</td>\n",
       "      <td>11.92</td>\n",
       "      <td>35.0</td>\n",
       "      <td>12</td>\n",
       "      <td>4.6</td>\n",
       "      <td>1.2.175</td>\n",
       "      <td>6.0</td>\n",
       "      <td>NaN</td>\n",
       "      <td>NaN</td>\n",
       "      <td>NaN</td>\n",
       "      <td>NaN</td>\n",
       "    </tr>\n",
       "    <tr>\n",
       "      <th>632</th>\n",
       "      <td>Quadro K2200M</td>\n",
       "      <td>GM107</td>\n",
       "      <td>Maxwell</td>\n",
       "      <td>TSMC</td>\n",
       "      <td>28.0</td>\n",
       "      <td>1870000.0</td>\n",
       "      <td>148.0</td>\n",
       "      <td>2014-07-19 00:00:00</td>\n",
       "      <td>Quadro Kepler-M</td>\n",
       "      <td>1150.0</td>\n",
       "      <td>...</td>\n",
       "      <td>46.0</td>\n",
       "      <td>65.0</td>\n",
       "      <td>12</td>\n",
       "      <td>4.6</td>\n",
       "      <td>1.3</td>\n",
       "      <td>6.0</td>\n",
       "      <td>5.0</td>\n",
       "      <td>NaN</td>\n",
       "      <td>NaN</td>\n",
       "      <td>NaN</td>\n",
       "    </tr>\n",
       "  </tbody>\n",
       "</table>\n",
       "<p>633 rows × 37 columns</p>\n",
       "</div>"
      ],
      "text/plain": [
       "                 Name GPU Name Architecture Foundry  Process Size  \\\n",
       "0       FirePro M4170     Opal      GCN 1.0    TSMC          28.0   \n",
       "1      FirePro W4130M     Mars      GCN 1.0    TSMC          28.0   \n",
       "2      FirePro W4150M     Mars      GCN 1.0    TSMC          28.0   \n",
       "3      FirePro W4170M     Opal      GCN 1.0    TSMC          28.0   \n",
       "4      FirePro W4190M     Opal      GCN 1.0    TSMC          28.0   \n",
       "..                ...      ...          ...     ...           ...   \n",
       "628  GeForce GTX 980M    GM204  Maxwell 2.0    TSMC          28.0   \n",
       "629        Jetson TK1    GK20A   Kepler 2.0    TSMC          28.0   \n",
       "630      Quadro K100M    GK107       Kepler    TSMC          28.0   \n",
       "631      Quadro K200M    GK107       Kepler    TSMC          28.0   \n",
       "632     Quadro K2200M    GM107      Maxwell    TSMC          28.0   \n",
       "\n",
       "     Transistor Count  Die Size         Release Date       Generation  \\\n",
       "0         950000000.0      77.0  2015-04-23 00:00:00   FirePro Mobile   \n",
       "1         950000000.0      77.0                  NaN   FirePro Mobile   \n",
       "2         950000000.0      77.0                  NaN   FirePro Mobile   \n",
       "3         950000000.0      77.0  2015-04-23 00:00:00   FirePro Mobile   \n",
       "4         950000000.0      77.0  2015-11-12 00:00:00   FirePro Mobile   \n",
       "..                ...       ...                  ...              ...   \n",
       "628         5200000.0     398.0  2014-10-07 00:00:00     GeForce 900M   \n",
       "629               NaN       NaN  2014-10-15 00:00:00            Tegra   \n",
       "630         1270000.0     118.0  2014-08-22 00:00:00  Quadro Kepler-M   \n",
       "631         1270000.0     118.0  2014-08-22 00:00:00  Quadro Kepler-M   \n",
       "632         1870000.0     148.0  2014-07-19 00:00:00  Quadro Kepler-M   \n",
       "\n",
       "     Base Clock  ...  Floating Point Performance 64-bit   TDP DirectX  OpenGL  \\\n",
       "0         825.0  ...                               43.2   NaN      12     4.6   \n",
       "1         775.0  ...                                NaN   NaN      12     4.6   \n",
       "2         800.0  ...                                NaN   NaN      12     4.6   \n",
       "3         825.0  ...                               43.2   NaN      12     4.6   \n",
       "4         825.0  ...                               43.2   NaN      12     4.6   \n",
       "..          ...  ...                                ...   ...     ...     ...   \n",
       "628      1038.0  ...                              108.2   NaN      12     4.6   \n",
       "629       756.0  ...                              11.41   8.0      12  ES 3.1   \n",
       "630       851.0  ...                              13.62  35.0      12     4.6   \n",
       "631       745.0  ...                              11.92  35.0      12     4.6   \n",
       "632      1150.0  ...                               46.0  65.0      12     4.6   \n",
       "\n",
       "      Vulkan Shader Model  SMM Count  SM Count  Tensor Cores  RT Cores  \n",
       "0    1.2.170          6.0        NaN       NaN           NaN       NaN  \n",
       "1    1.2.170          6.0        NaN       NaN           NaN       NaN  \n",
       "2    1.2.170          6.0        NaN       NaN           NaN       NaN  \n",
       "3    1.2.170          6.0        NaN       NaN           NaN       NaN  \n",
       "4    1.2.170          6.0        NaN       NaN           NaN       NaN  \n",
       "..       ...          ...        ...       ...           ...       ...  \n",
       "628      1.3          6.0       12.0       NaN           NaN       NaN  \n",
       "629      1.3          6.0        NaN       NaN           NaN       NaN  \n",
       "630  1.2.175          6.0        NaN       NaN           NaN       NaN  \n",
       "631  1.2.175          6.0        NaN       NaN           NaN       NaN  \n",
       "632      1.3          6.0        5.0       NaN           NaN       NaN  \n",
       "\n",
       "[633 rows x 37 columns]"
      ]
     },
     "execution_count": 41,
     "metadata": {},
     "output_type": "execute_result"
    }
   ],
   "source": [
    "col = [name, gpu_name, architecture, foundry, process_size, transistor_count, die_size, release_date, generation, base_clock, boost_clock, memory_clock, memory_size, memory_type, memory_bus, memory_bandwidth, shading_units, TMUs, ROPs, compute_units, l0_cache, L1_cache, L2_cache, L3_cache, pixel_rate, texture_rate, floating_point_performance_32, floating_point_performance_64, TDP, directx, openGL, vulkan, shader_model, smm_count, sm_count, tensor_cores, RT_cores]\n",
    "df_out = pd.concat(col, axis=1)\n",
    "df_out"
   ]
  },
  {
   "cell_type": "code",
   "execution_count": 42,
   "metadata": {},
   "outputs": [],
   "source": [
    "df_out.to_csv(data_path + 'best_gpu_cleaned.csv', index=False)"
   ]
  }
 ],
 "metadata": {
  "kernelspec": {
   "display_name": "Python 3",
   "language": "python",
   "name": "python3"
  },
  "language_info": {
   "codemirror_mode": {
    "name": "ipython",
    "version": 3
   },
   "file_extension": ".py",
   "mimetype": "text/x-python",
   "name": "python",
   "nbconvert_exporter": "python",
   "pygments_lexer": "ipython3",
   "version": "3.12.2"
  }
 },
 "nbformat": 4,
 "nbformat_minor": 2
}
