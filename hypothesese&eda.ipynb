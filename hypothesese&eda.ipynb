{
 "cells": [
  {
   "cell_type": "code",
   "execution_count": 1,
   "metadata": {},
   "outputs": [],
   "source": [
    "import pandas as pd \n",
    "import matplotlib.pyplot as plt\n",
    "import seaborn as sn\n",
    "import numpy as np"
   ]
  },
  {
   "cell_type": "code",
   "execution_count": 3,
   "metadata": {},
   "outputs": [],
   "source": [
    "data = pd.read_csv(\"data/laptop_final.csv\")"
   ]
  },
  {
   "cell_type": "markdown",
   "metadata": {},
   "source": [
    "# Hypothesese "
   ]
  },
  {
   "cell_type": "markdown",
   "metadata": {},
   "source": [
    "# 1,In the same price segment, find the best laptop series for work, gaming, and watching movies."
   ]
  },
  {
   "cell_type": "markdown",
   "metadata": {},
   "source": [
    "# 2, Collect all laptop brands available, find the highest and lowest-priced models for each brand.\n",
    "\n",
    "\n"
   ]
  },
  {
   "cell_type": "markdown",
   "metadata": {},
   "source": [
    "# 3, Evolution of Storage Type Preferences (SSD vs. HDD) Over Time\n",
    "\n",
    "Track changes in the adoption of SSDs vs. HDDs across release years, segmented by price range. Time-series graphs and stacked area plots would reveal shifts in consumer preferences over time"
   ]
  },
  {
   "cell_type": "markdown",
   "metadata": {},
   "source": [
    "# 4, Trade-off Analysis Between Performance and Battery Life in Gaming Laptops\n",
    "\n",
    "Plot Play Score against battery life and Portability Score for gaming models. Use scatter plots or line charts to reveal the trade-off points and balance between performance and portability.\n",
    "\n"
   ]
  },
  {
   "cell_type": "markdown",
   "metadata": {},
   "source": [
    "# 5, Laptops with recently released CPUs and GPUs are more likely to offer higher performance scores but at a higher price, while older component configurations may offer the best price-performance balance for budget-conscious consumers.\n",
    "\n",
    "Plot Total Score and Cost for laptops with different CPU/GPU release timelines to identify the ideal price-performance ratios. Use scatter plots with regression lines to highlight the price-performance trade-off for each configuration."
   ]
  },
  {
   "cell_type": "markdown",
   "metadata": {},
   "source": [
    "# 6, Price over the specific-task laptops(laptops that have specific score in the top 5-10% largest)"
   ]
  },
  {
   "cell_type": "markdown",
   "metadata": {},
   "source": [
    "# 7, The difference in the architecture of laptops for each specific-task "
   ]
  },
  {
   "cell_type": "markdown",
   "metadata": {},
   "source": [
    "# 8, Any trends in use of GPU and CPU for each task? For example, have a trend recently likely to use the type of archtitecture of CPU for a brand for a task of gaming? or something else in architecture that correlated to CPU and GPU( related to date)???"
   ]
  }
 ],
 "metadata": {
  "kernelspec": {
   "display_name": "Python 3",
   "language": "python",
   "name": "python3"
  },
  "language_info": {
   "codemirror_mode": {
    "name": "ipython",
    "version": 3
   },
   "file_extension": ".py",
   "mimetype": "text/x-python",
   "name": "python",
   "nbconvert_exporter": "python",
   "pygments_lexer": "ipython3",
   "version": "3.11.9"
  }
 },
 "nbformat": 4,
 "nbformat_minor": 2
}
