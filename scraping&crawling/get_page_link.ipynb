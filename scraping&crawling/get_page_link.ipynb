{
 "cells": [
  {
   "cell_type": "code",
   "execution_count": 1,
   "metadata": {},
   "outputs": [],
   "source": [
    "import urllib3\n",
    "from urllib.parse import urlparse, parse_qs, urlencode, urlunparse\n",
    "import pandas as pd\n",
    "import json"
   ]
  },
  {
   "cell_type": "code",
   "execution_count": 2,
   "metadata": {},
   "outputs": [],
   "source": [
    "# url = (\"\")\n",
    "url = (\"https://laptopmedia.com/specs/?current=n_2_n&size=n_1000_n&filters%5B0%5D%5Bfield%5D=cpu&filters%5B0%5D%5Bvalues%5D%5B0%5D=Intel%20Core%20i5-1135G7&filters%5B0%5D%5Btype%5D=any&filters%5B1%5D%5Bfield%5D=display_size&filters%5B1%5D%5Bvalues%5D%5B0%5D%5Bto%5D=n_17_n&filters%5B1%5D%5Bvalues%5D%5B0%5D%5Bfrom%5D=n_15_n&filters%5B1%5D%5Bvalues%5D%5B0%5D%5Bname%5D=15%22%20-%2016%22&filters%5B1%5D%5Btype%5D=any&filters%5B2%5D%5Bfield%5D=ram&filters%5B2%5D%5Bvalues%5D%5B0%5D%5Bto%5D=n_9_n&filters%5B2%5D%5Bvalues%5D%5B0%5D%5Bname%5D=Up%20to%208GB&filters%5B2%5D%5Btype%5D=any\")"
   ]
  },
  {
   "cell_type": "code",
   "execution_count": 3,
   "metadata": {},
   "outputs": [],
   "source": [
    "parsed_url = urlparse(url)\n",
    "query_params = parse_qs(parsed_url.query)"
   ]
  },
  {
   "cell_type": "code",
   "execution_count": 4,
   "metadata": {},
   "outputs": [
    {
     "name": "stdout",
     "output_type": "stream",
     "text": [
      "current ['n_2_n']\n",
      "size ['n_1000_n']\n",
      "filters[0][field] ['cpu']\n",
      "filters[0][values][0] ['Intel Core i5-1135G7']\n",
      "filters[0][type] ['any']\n",
      "filters[1][field] ['display_size']\n",
      "filters[1][values][0][to] ['n_17_n']\n",
      "filters[1][values][0][from] ['n_15_n']\n",
      "filters[1][values][0][name] ['15\" - 16\"']\n",
      "filters[1][type] ['any']\n",
      "filters[2][field] ['ram']\n",
      "filters[2][values][0][to] ['n_9_n']\n",
      "filters[2][values][0][name] ['Up to 8GB']\n",
      "filters[2][type] ['any']\n"
     ]
    }
   ],
   "source": [
    "for key, value in query_params.items():\n",
    "    print(key,value)"
   ]
  },
  {
   "cell_type": "code",
   "execution_count": 5,
   "metadata": {},
   "outputs": [],
   "source": [
    "mine = pd.read_csv(\"cpu_link.csv\")\n",
    "page = [f'n_{k}_n' for k in range(1,11)]\n",
    "ram_header = ['Up to 8GB','8 - 16GB','16 - 32GB','32GB and more']\n",
    "display_header = ['Up to 12\"','12\" - 13\"','13\" - 14\"','15\" - 16\"','17\" and larger']\n",
    "cpu_header = mine[\"name\"]\n",
    "special_cpu = [\"Intel Core i5-1135G7\",\"Intel Core i7-1165G7\",\"Intel Core i7-10750H\",\"Intel Core i7-11800H\",\"Intel Core i7-12700H\",\"Intel Core i7-9750H\",\"Intel Core i5-1035G1\",\"Intel Core i3-1115G4\"]\n",
    "num_use_ram = 4\n",
    "num_use_display_size = 8"
   ]
  },
  {
   "cell_type": "code",
   "execution_count": 6,
   "metadata": {},
   "outputs": [
    {
     "data": {
      "text/plain": [
       "['15\" - 16\"']"
      ]
     },
     "execution_count": 6,
     "metadata": {},
     "output_type": "execute_result"
    }
   ],
   "source": [
    "laptop_query_link = {\"link\":[]}\n",
    "query_params.pop(\"filters[2][field]\")\n",
    "query_params.pop(\"filters[2][type]\")\n",
    "query_params.pop(\"filters[2][values][0][to]\")\n",
    "query_params.pop(\"filters[2][values][0][name]\")\n",
    "query_params.pop(\"filters[1][field]\")\n",
    "query_params.pop(\"filters[1][type]\")\n",
    "query_params.pop(\"filters[1][values][0][from]\")\n",
    "query_params.pop(\"filters[1][values][0][to]\")\n",
    "query_params.pop(\"filters[1][values][0][name]\")"
   ]
  },
  {
   "cell_type": "code",
   "execution_count": 7,
   "metadata": {},
   "outputs": [],
   "source": [
    "for id,cpu in enumerate(cpu_header):\n",
    "    if cpu not in special_cpu:\n",
    "        query_params[\"filters[0][values][0]\"] = [cpu]\n",
    "        laptop_query_link[\"link\"].append([])\n",
    "        for b in page:\n",
    "            query_params[\"current\"] = [b]\n",
    "            query_string = urlencode(query_params, doseq=True)\n",
    "            new_url = urlunparse(parsed_url._replace(query=query_string))\n",
    "            laptop_query_link[\"link\"][-1].append(new_url)"
   ]
  },
  {
   "cell_type": "code",
   "execution_count": 8,
   "metadata": {},
   "outputs": [],
   "source": [
    "with open(\"all link 2.json\",\"w\") as a:\n",
    "    json.dump(laptop_query_link,a)"
   ]
  },
  {
   "cell_type": "code",
   "execution_count": 9,
   "metadata": {},
   "outputs": [
    {
     "data": {
      "text/plain": [
       "249"
      ]
     },
     "execution_count": 9,
     "metadata": {},
     "output_type": "execute_result"
    }
   ],
   "source": [
    "len(laptop_query_link[\"link\"])"
   ]
  }
 ],
 "metadata": {
  "kernelspec": {
   "display_name": "Python 3",
   "language": "python",
   "name": "python3"
  },
  "language_info": {
   "codemirror_mode": {
    "name": "ipython",
    "version": 3
   },
   "file_extension": ".py",
   "mimetype": "text/x-python",
   "name": "python",
   "nbconvert_exporter": "python",
   "pygments_lexer": "ipython3",
   "version": "3.11.3"
  }
 },
 "nbformat": 4,
 "nbformat_minor": 2
}
